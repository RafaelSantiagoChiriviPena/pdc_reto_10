{
 "cells": [
  {
   "cell_type": "code",
   "execution_count": 5,
   "metadata": {},
   "outputs": [
    {
     "name": "stdout",
     "output_type": "stream",
     "text": [
      "La lista resultante es \n",
      " [1.0, 2.0, 3.0, 4.0, 5.0]\n",
      "El promedio de la lista es 3.0\n"
     ]
    }
   ],
   "source": [
    "## reto 10 1\n",
    "def prom (lista : list, longitud : int) -> float:   # definir la funcion para el promedio de lista\n",
    "    sumatoria : float = 0.0     # establecer la constante para la sumatoria de los datos de la funcion en 0\n",
    "\n",
    "    for i in range (0 , len(lista)):    # bucle para recorrer la lista y todo sus elementos\n",
    "        sumatoria += float(lista[i])    # sumar a la constante de sumatoria el valor de los componentes\n",
    "\n",
    "    return sumatoria / longitud     # retornar el promedio de los datos (sumatoria de datos / numero de datos)\n",
    "\n",
    "if __name__ == \"__main__\":\n",
    "    try:\n",
    "        lista = []  # establecer la lista como vacia\n",
    "\n",
    "        len_arreglo : int = int(input(\"Defina el numero de componentes que tendra el arreglo: \"))   # ingreso de numero de componentes\n",
    "        while len_arreglo < 1:  # limite para solo componentes positivos\n",
    "            len_arreglo = int(input(\"El valor ingresado no es valido, intentelo de nuevo: \"))\n",
    "\n",
    "        while len(lista) <= (len_arreglo - 1): # condicion para detener el ingreso de datos una vez el numero de estos sea igual al numero de componentes ingresado anteriormente\n",
    "            dato : float = float(input(\"Ingrese el dato para el arreglo: \")) # ingreso del dato numerico real\n",
    "            lista.append(dato)  # se agrega el dato a la lista anteriormente establecida\n",
    "\n",
    "        print(f\"La lista resultante es \\n {lista}\")     # impresion de la lista\n",
    "        \n",
    "        promedio = prom(lista, len_arreglo)     # asignar el valor de la funcion aplicada a la lista a una variable\n",
    "        print(f\"El promedio de la lista es {promedio}\")     # impresion del resultado   \n",
    "\n",
    "    except ValueError:\n",
    "        print(\"El valor ingresado no se trata de un numero entero\")"
   ]
  },
  {
   "cell_type": "code",
   "execution_count": 3,
   "metadata": {},
   "outputs": [
    {
     "name": "stdout",
     "output_type": "stream",
     "text": [
      "La lista resultante es \n",
      " [3.0, 2.0, 1.0, 0.0]\n",
      "La lista resultante es \n",
      " [0.0, 0.0, 0.0, 0.0]\n",
      "El producto punto entre los vectores A = [3.0, 2.0, 1.0, 0.0] y B = [0.0, 0.0, 0.0, 0.0] es igual a A . B = 0\n"
     ]
    }
   ],
   "source": [
    "## reto 10 2\n",
    "prod_punto : int = 0    # declaracion de la constante para el producto punto como entero 0 \n",
    "\n",
    "if __name__ == \"__main__\":\n",
    "    try:\n",
    "        lista_A = []    #  declaracion de lista vacia A\n",
    "        lista_B = []    #  declaracion de lista vacia B\n",
    "        \n",
    "        len_arreglo : int = int(input(\"Defina el numero de componentes que tendran los arreglos: \"))    # ingreso de numero de componentes\n",
    "        while len_arreglo < 1:  # limite solo para componentes positivos\n",
    "            len_arreglo = int(input(\"El valor ingresado no es valido, intentelo de nuevo: \"))\n",
    "\n",
    "        while len(lista_A) <= (len_arreglo - 1):    # condicion para detener el ingreso de datos una vez el numero de estos sea igual al numero de componentes ingresado anteriormente\n",
    "            dato : float = float(input(\"Ingrese el dato numerico entero para el arreglo A: \"))  # ingreso del dato numerico entero\n",
    "            while dato % 1 != 0:    # limite para ingreso de solo numeros enteros\n",
    "                dato = float(input(\"El numero ingresado no es valido, por favor solo ingrese numeros enteros: \"))\n",
    "            lista_A.append(dato)    # se agrega el dato a la lista anteriormente establecida\n",
    "\n",
    "        print(f\"La lista resultante es \\n {lista_A}\")   # impresion de la lista\n",
    "\n",
    "        while len(lista_B) <= (len_arreglo - 1):    # condicion para detener el ingreso de datos una vez el numero de estos sea igual al numero de componentes ingresado anteriormente\n",
    "            dato : float = float(input(\"Ingrese el dato numerico entero para el arreglo B: \"))   # ingreso del dato numerico entero\n",
    "            while dato % 1 != 0:    # limite para ingreso de solo numeros enteros\n",
    "                dato = float(input(\"El numero ingresado no es valido, por favor solo ingrese numeros enteros: \"))\n",
    "            lista_B.append(dato)    # se agrega el dato a la lista anteriormente establecida\n",
    "\n",
    "        print(f\"La lista resultante es \\n {lista_B}\")   # impresion de la lista\n",
    "\n",
    "        for i in range(0, len(lista_A)):    # recorrido para los datos de los arreglos\n",
    "            sumatoria = int(lista_A[i]) * int(lista_B[i])   # asignacion del producto de cada componente de los arreglos (x_1 * y_1... x_n * y_n) para n como el numero de componentes establecido\n",
    "            prod_punto += sumatoria     # adicion del producto al valor del producto punto, siendo la sumatoria de los productos de los componentes de los vectores\n",
    "        print(f\"El producto punto entre los vectores A = {lista_A} y B = {lista_B} es igual a A . B = {prod_punto}\")    # impresion del producto punto entre las listas\n",
    "        \n",
    "    except ValueError:\n",
    "        print(\"El valor ingresado no se trata de un numero\")"
   ]
  },
  {
   "cell_type": "code",
   "execution_count": 6,
   "metadata": {},
   "outputs": [
    {
     "name": "stdout",
     "output_type": "stream",
     "text": [
      "La lista resultante es \n",
      " [0.0, 1.0, 0.0, 2.0]\n",
      "La lista resultante, al reacomodar todos los 0 al final de la lista es \n",
      " [1.0, 2.0, 0, 0]\n"
     ]
    }
   ],
   "source": [
    "## reto 10 3\n",
    "if __name__ == \"__main__\":\n",
    "    try: \n",
    "        lista = []  # declaracion de lista vacia\n",
    "\n",
    "        len_arreglo : int = int(input(\"Defina el numero de componentes que tendra el arreglo: \"))    # ingreso de numero de componentes\n",
    "        while len_arreglo < 1:  # limite solo para componentes positivos    \n",
    "            len_arreglo = int(input(\"El valor ingresado no es valido, intentelo de nuevo: \"))\n",
    "\n",
    "        while len(lista) <= (len_arreglo - 1): # condicion para detener el ingreso de datos una vez el numero de estos sea igual al numero de componentes ingresado anteriormente\n",
    "            dato : float = float(input(\"Ingrese el dato para el arreglo: \")) # ingreso del dato numerico real\n",
    "            lista.append(dato)  # se agrega el dato a la lista anteriormente establecida\n",
    "\n",
    "        print(f\"La lista resultante es \\n {lista}\")     # impresion de la lista resultante\n",
    "\n",
    "        ceros : int = lista.count(0)    # asignacion del numero de ceros en la lista a una variable\n",
    "        for i in range (0, ceros): # recorrido en un rango desde 0 hasta el numero de ceros en la lista\n",
    "            lista.remove(0)     # se elimina por defecto el primer cero encontrado de izquierda a derecha\n",
    "            lista.append(0.0)   # se agrega al final de la lista\n",
    "        print(f\"La lista resultante, al reacomodar todos los 0 al final de la lista es \\n {lista}\")     # impresion de la lista resultante\n",
    "        \n",
    "    except ValueError:\n",
    "        print(\"El valor ingresado no se trata de un numero entero\")"
   ]
  }
 ],
 "metadata": {
  "kernelspec": {
   "display_name": "Python 3",
   "language": "python",
   "name": "python3"
  },
  "language_info": {
   "codemirror_mode": {
    "name": "ipython",
    "version": 3
   },
   "file_extension": ".py",
   "mimetype": "text/x-python",
   "name": "python",
   "nbconvert_exporter": "python",
   "pygments_lexer": "ipython3",
   "version": "3.12.3"
  }
 },
 "nbformat": 4,
 "nbformat_minor": 2
}
